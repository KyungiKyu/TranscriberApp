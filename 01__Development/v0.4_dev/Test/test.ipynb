{
 "cells": [
  {
   "cell_type": "code",
   "execution_count": 2,
   "metadata": {},
   "outputs": [],
   "source": [
    "import os"
   ]
  },
  {
   "cell_type": "code",
   "execution_count": 3,
   "metadata": {},
   "outputs": [],
   "source": [
    "test = {'eins':1, 'zwei':2, 'drei':3}"
   ]
  },
  {
   "cell_type": "code",
   "execution_count": 12,
   "metadata": {},
   "outputs": [
    {
     "name": "stdout",
     "output_type": "stream",
     "text": [
      "2\n"
     ]
    }
   ],
   "source": [
    "for key, value in test.items():\n",
    "    if value == 2:\n",
    "        print(test[key])"
   ]
  },
  {
   "cell_type": "code",
   "execution_count": 1,
   "metadata": {},
   "outputs": [
    {
     "ename": "ModuleNotFoundError",
     "evalue": "No module named 'PyQtDarkTheme'",
     "output_type": "error",
     "traceback": [
      "\u001b[1;31m---------------------------------------------------------------------------\u001b[0m",
      "\u001b[1;31mModuleNotFoundError\u001b[0m                       Traceback (most recent call last)",
      "Cell \u001b[1;32mIn[1], line 1\u001b[0m\n\u001b[1;32m----> 1\u001b[0m \u001b[38;5;28;01mimport\u001b[39;00m \u001b[38;5;21;01mPyQtDarkTheme\u001b[39;00m\n",
      "\u001b[1;31mModuleNotFoundError\u001b[0m: No module named 'PyQtDarkTheme'"
     ]
    }
   ],
   "source": [
    "import PyQtDarkTheme"
   ]
  },
  {
   "cell_type": "code",
   "execution_count": 1,
   "metadata": {},
   "outputs": [],
   "source": [
    "import configparser\n",
    "import os"
   ]
  },
  {
   "cell_type": "code",
   "execution_count": null,
   "metadata": {},
   "outputs": [],
   "source": [
    "def create_config_file(self):\n",
    "    config = configparser.ConfigParser()\n",
    "    config['Templates'] = {'current_template': 'default'}"
   ]
  },
  {
   "cell_type": "code",
   "execution_count": 2,
   "metadata": {},
   "outputs": [],
   "source": [
    "config = configparser.ConfigParser()"
   ]
  },
  {
   "cell_type": "code",
   "execution_count": 7,
   "metadata": {},
   "outputs": [
    {
     "data": {
      "text/plain": [
       "['C:\\\\Users\\\\kai\\\\AppData\\\\Roaming\\\\TranscriptionApp\\\\settings.ini']"
      ]
     },
     "execution_count": 7,
     "metadata": {},
     "output_type": "execute_result"
    }
   ],
   "source": [
    "config.read(os.path.join(os.getenv('APPDATA'),'TranscriptionApp','settings.ini'))"
   ]
  },
  {
   "cell_type": "code",
   "execution_count": 10,
   "metadata": {},
   "outputs": [
    {
     "data": {
      "text/plain": [
       "'default'"
      ]
     },
     "execution_count": 10,
     "metadata": {},
     "output_type": "execute_result"
    }
   ],
   "source": [
    "config['Templates']['current_template']"
   ]
  },
  {
   "cell_type": "code",
   "execution_count": 11,
   "metadata": {},
   "outputs": [],
   "source": [
    "text = 'test.txt'"
   ]
  },
  {
   "cell_type": "code",
   "execution_count": 13,
   "metadata": {},
   "outputs": [
    {
     "data": {
      "text/plain": [
       "'test'"
      ]
     },
     "execution_count": 13,
     "metadata": {},
     "output_type": "execute_result"
    }
   ],
   "source": [
    "text.split('.')[0]"
   ]
  },
  {
   "cell_type": "code",
   "execution_count": 14,
   "metadata": {},
   "outputs": [],
   "source": [
    "text = 'transcript.txt'"
   ]
  },
  {
   "cell_type": "code",
   "execution_count": 17,
   "metadata": {},
   "outputs": [
    {
     "data": {
      "text/plain": [
       "'protocol.md'"
      ]
     },
     "execution_count": 17,
     "metadata": {},
     "output_type": "execute_result"
    }
   ],
   "source": [
    "text.split('.')[0].replace('transcript','protocol')+'.md'"
   ]
  },
  {
   "cell_type": "code",
   "execution_count": 1,
   "metadata": {},
   "outputs": [],
   "source": [
    "import os"
   ]
  },
  {
   "cell_type": "code",
   "execution_count": 1,
   "metadata": {},
   "outputs": [],
   "source": [
    "import sounddevice as sd"
   ]
  },
  {
   "cell_type": "code",
   "execution_count": 2,
   "metadata": {},
   "outputs": [
    {
     "data": {
      "text/plain": [
       "   0 Microsoft Sound Mapper - Input, MME (2 in, 0 out)\n",
       ">  1 Line 1 (Virtual Audio Cable), MME (2 in, 0 out)\n",
       "   2 Microphone (NVIDIA Broadcast), MME (2 in, 0 out)\n",
       "   3 Microphone (Razer Seiren Emote), MME (2 in, 0 out)\n",
       "   4 Microphone (DroidCam Virtual Au, MME (2 in, 0 out)\n",
       "   5 Microphone (Fujitsu Full HD Pro, MME (2 in, 0 out)\n",
       "   6 CABLE Output (VB-Audio Virtual , MME (2 in, 0 out)\n",
       "   7 Microsoft Sound Mapper - Output, MME (0 in, 2 out)\n",
       "<  8 DELL S3422DW (NVIDIA High Defin, MME (0 in, 2 out)\n",
       "   9 Line 1 (Virtual Audio Cable), MME (0 in, 2 out)\n",
       "  10 ASUS VE278 (NVIDIA High Definit, MME (0 in, 2 out)\n",
       "  11 Speakers (Razer Seiren Emote), MME (0 in, 2 out)\n",
       "  12 Realtek Digital Output (Realtek, MME (0 in, 2 out)\n",
       "  13 CABLE Input (VB-Audio Virtual C, MME (0 in, 2 out)\n",
       "  14 Speakers (NVIDIA Broadcast), MME (0 in, 2 out)\n",
       "  15 Primary Sound Capture Driver, Windows DirectSound (2 in, 0 out)\n",
       "  16 Line 1 (Virtual Audio Cable), Windows DirectSound (2 in, 0 out)\n",
       "  17 Microphone (NVIDIA Broadcast), Windows DirectSound (2 in, 0 out)\n",
       "  18 Microphone (Razer Seiren Emote), Windows DirectSound (2 in, 0 out)\n",
       "  19 Microphone (DroidCam Virtual Audio), Windows DirectSound (2 in, 0 out)\n",
       "  20 Microphone (Fujitsu Full HD Pro Webcam), Windows DirectSound (2 in, 0 out)\n",
       "  21 CABLE Output (VB-Audio Virtual Cable), Windows DirectSound (2 in, 0 out)\n",
       "  22 Primary Sound Driver, Windows DirectSound (0 in, 2 out)\n",
       "  23 DELL S3422DW (NVIDIA High Definition Audio), Windows DirectSound (0 in, 2 out)\n",
       "  24 Line 1 (Virtual Audio Cable), Windows DirectSound (0 in, 2 out)\n",
       "  25 ASUS VE278 (NVIDIA High Definition Audio), Windows DirectSound (0 in, 2 out)\n",
       "  26 Speakers (Razer Seiren Emote), Windows DirectSound (0 in, 2 out)\n",
       "  27 Realtek Digital Output (Realtek USB Audio), Windows DirectSound (0 in, 8 out)\n",
       "  28 CABLE Input (VB-Audio Virtual Cable), Windows DirectSound (0 in, 2 out)\n",
       "  29 Speakers (NVIDIA Broadcast), Windows DirectSound (0 in, 2 out)\n",
       "  30 Realtek ASIO, ASIO (2 in, 2 out)\n",
       "  31 Line 1 (Virtual Audio Cable), Windows WASAPI (0 in, 2 out)\n",
       "  32 ASUS VE278 (NVIDIA High Definition Audio), Windows WASAPI (0 in, 2 out)\n",
       "  33 Speakers (Razer Seiren Emote), Windows WASAPI (0 in, 2 out)\n",
       "  34 Realtek Digital Output (Realtek USB Audio), Windows WASAPI (0 in, 8 out)\n",
       "  35 CABLE Input (VB-Audio Virtual Cable), Windows WASAPI (0 in, 2 out)\n",
       "  36 Speakers (NVIDIA Broadcast), Windows WASAPI (0 in, 2 out)\n",
       "  37 DELL S3422DW (NVIDIA High Definition Audio), Windows WASAPI (0 in, 2 out)\n",
       "  38 Microphone (NVIDIA Broadcast), Windows WASAPI (2 in, 0 out)\n",
       "  39 Microphone (Razer Seiren Emote), Windows WASAPI (2 in, 0 out)\n",
       "  40 Microphone (DroidCam Virtual Audio), Windows WASAPI (1 in, 0 out)\n",
       "  41 Line 1 (Virtual Audio Cable), Windows WASAPI (2 in, 0 out)\n",
       "  42 Microphone (Fujitsu Full HD Pro Webcam), Windows WASAPI (2 in, 0 out)\n",
       "  43 CABLE Output (VB-Audio Virtual Cable), Windows WASAPI (2 in, 0 out)\n",
       "  44 Output (RTX-Audio Point), Windows WDM-KS (0 in, 2 out)\n",
       "  45 Microphone (RTX-Audio Point), Windows WDM-KS (2 in, 0 out)\n",
       "  46 MIDI (DroidCam Audio), Windows WDM-KS (1 in, 0 out)\n",
       "  47 Output (DroidCam Audio), Windows WDM-KS (0 in, 1 out)\n",
       "  48 Headphones (Realtek USB Audio), Windows WDM-KS (0 in, 2 out)\n",
       "  49 Speakers (Realtek USB Audio), Windows WDM-KS (0 in, 8 out)\n",
       "  50 SPDIF Interface (Realtek USB Audio), Windows WDM-KS (0 in, 2 out)\n",
       "  51 Line In (Realtek USB Audio), Windows WDM-KS (2 in, 0 out)\n",
       "  52 Microphone (Realtek USB Audio), Windows WDM-KS (2 in, 0 out)\n",
       "  53 Stereo Mix (Realtek USB Audio), Windows WDM-KS (2 in, 0 out)\n",
       "  54 Headset (@System32\\drivers\\bthhfenum.sys,#2;%1 Hands-Free%0\n",
       ";(WH-1000XM5)), Windows WDM-KS (0 in, 1 out)\n",
       "  55 Headset (@System32\\drivers\\bthhfenum.sys,#2;%1 Hands-Free%0\n",
       ";(WH-1000XM5)), Windows WDM-KS (1 in, 0 out)\n",
       "  56 Headphones (), Windows WDM-KS (0 in, 2 out)\n",
       "  57 CABLE Output (VB-Audio Point), Windows WDM-KS (8 in, 0 out)\n",
       "  58 Speakers (VB-Audio Point), Windows WDM-KS (0 in, 8 out)\n",
       "  59 Speakers (Razer Seiren Emote), Windows WDM-KS (0 in, 2 out)\n",
       "  60 Microphone (Razer Seiren Emote), Windows WDM-KS (2 in, 0 out)\n",
       "  61 Output (NVIDIA High Definition Audio), Windows WDM-KS (0 in, 2 out)\n",
       "  62 Output (), Windows WDM-KS (0 in, 2 out)\n",
       "  63 Microphone (Fujitsu Full HD Pro Webcam), Windows WDM-KS (2 in, 0 out)\n",
       "  64 Speakers (SONICSTUDIOVAD Wave Speaker), Windows WDM-KS (0 in, 2 out)\n",
       "  65 Microphone (SONICSTUDIOVAD Wave Speaker), Windows WDM-KS (2 in, 0 out)\n",
       "  66 Mic 1 (Virtual Cable 1), Windows WDM-KS (2 in, 0 out)\n",
       "  67 Line 1 (Virtual Cable 1), Windows WDM-KS (2 in, 0 out)\n",
       "  68 S/PDIF 1 (Virtual Cable 1), Windows WDM-KS (2 in, 0 out)\n",
       "  69 Line Out (Virtual Cable 1), Windows WDM-KS (0 in, 2 out)"
      ]
     },
     "execution_count": 2,
     "metadata": {},
     "output_type": "execute_result"
    }
   ],
   "source": [
    "sd.query_devices()"
   ]
  },
  {
   "cell_type": "code",
   "execution_count": 5,
   "metadata": {},
   "outputs": [],
   "source": [
    "text = \"C:\\\\Users\\\\kai\\\\AppData\\\\Roaming\\\\TranscriptionApp\\\\DATA\\\\yes\""
   ]
  },
  {
   "cell_type": "code",
   "execution_count": 9,
   "metadata": {},
   "outputs": [
    {
     "data": {
      "text/plain": [
       "'yes'"
      ]
     },
     "execution_count": 9,
     "metadata": {},
     "output_type": "execute_result"
    }
   ],
   "source": [
    "text.split(\"\\\\\")[::-1][0]"
   ]
  },
  {
   "cell_type": "code",
   "execution_count": null,
   "metadata": {},
   "outputs": [],
   "source": []
  }
 ],
 "metadata": {
  "kernelspec": {
   "display_name": "TranscriptionAI",
   "language": "python",
   "name": "python3"
  },
  "language_info": {
   "codemirror_mode": {
    "name": "ipython",
    "version": 3
   },
   "file_extension": ".py",
   "mimetype": "text/x-python",
   "name": "python",
   "nbconvert_exporter": "python",
   "pygments_lexer": "ipython3",
   "version": "3.11.3"
  }
 },
 "nbformat": 4,
 "nbformat_minor": 2
}
